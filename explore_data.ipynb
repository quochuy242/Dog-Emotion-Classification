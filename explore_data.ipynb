{
 "cells": [
  {
   "cell_type": "markdown",
   "metadata": {},
   "source": [
    "# Explore Dataset"
   ]
  },
  {
   "cell_type": "markdown",
   "metadata": {},
   "source": [
    "### Import library"
   ]
  },
  {
   "cell_type": "code",
   "execution_count": 57,
   "metadata": {},
   "outputs": [],
   "source": [
    "import cv2\n",
    "import numpy as np\n",
    "import pandas as pd\n",
    "import matplotlib.pyplot as plt\n",
    "import os\n",
    "\n",
    "import warnings\n",
    "warnings.filterwarnings(\"ignore\")"
   ]
  },
  {
   "cell_type": "markdown",
   "metadata": {},
   "source": [
    "### Read file labels.csv"
   ]
  },
  {
   "cell_type": "code",
   "execution_count": 58,
   "metadata": {},
   "outputs": [],
   "source": [
    "label_df = pd.read_csv(r'Dataset\\labels.csv')"
   ]
  },
  {
   "cell_type": "code",
   "execution_count": 59,
   "metadata": {},
   "outputs": [
    {
     "data": {
      "text/html": [
       "<div>\n",
       "<style scoped>\n",
       "    .dataframe tbody tr th:only-of-type {\n",
       "        vertical-align: middle;\n",
       "    }\n",
       "\n",
       "    .dataframe tbody tr th {\n",
       "        vertical-align: top;\n",
       "    }\n",
       "\n",
       "    .dataframe thead th {\n",
       "        text-align: right;\n",
       "    }\n",
       "</style>\n",
       "<table border=\"1\" class=\"dataframe\">\n",
       "  <thead>\n",
       "    <tr style=\"text-align: right;\">\n",
       "      <th></th>\n",
       "      <th>Unnamed: 0</th>\n",
       "      <th>filename</th>\n",
       "      <th>label</th>\n",
       "    </tr>\n",
       "  </thead>\n",
       "  <tbody>\n",
       "    <tr>\n",
       "      <th>0</th>\n",
       "      <td>0</td>\n",
       "      <td>yubL63eiiPmoRru8Z2K2yRo0NnGDCL683.jpg</td>\n",
       "      <td>sad</td>\n",
       "    </tr>\n",
       "    <tr>\n",
       "      <th>1</th>\n",
       "      <td>1</td>\n",
       "      <td>c1tVljKiLM9q2zTBuQGWpxmzBuSeBR437.jpg</td>\n",
       "      <td>sad</td>\n",
       "    </tr>\n",
       "    <tr>\n",
       "      <th>2</th>\n",
       "      <td>2</td>\n",
       "      <td>RbzNOvY5GIAl3PSjIRTKpEkQs1NByq575.jpg</td>\n",
       "      <td>angry</td>\n",
       "    </tr>\n",
       "    <tr>\n",
       "      <th>3</th>\n",
       "      <td>3</td>\n",
       "      <td>gKujaBuWYezz0yWK9ydTFVi6LbQtXe397.jpg</td>\n",
       "      <td>angry</td>\n",
       "    </tr>\n",
       "    <tr>\n",
       "      <th>4</th>\n",
       "      <td>4</td>\n",
       "      <td>U0hJ2ryOu1IOuYpc01O7RngPYa8Xvz795.jpg</td>\n",
       "      <td>relaxed</td>\n",
       "    </tr>\n",
       "  </tbody>\n",
       "</table>\n",
       "</div>"
      ],
      "text/plain": [
       "   Unnamed: 0                               filename    label\n",
       "0           0  yubL63eiiPmoRru8Z2K2yRo0NnGDCL683.jpg      sad\n",
       "1           1  c1tVljKiLM9q2zTBuQGWpxmzBuSeBR437.jpg      sad\n",
       "2           2  RbzNOvY5GIAl3PSjIRTKpEkQs1NByq575.jpg    angry\n",
       "3           3  gKujaBuWYezz0yWK9ydTFVi6LbQtXe397.jpg    angry\n",
       "4           4  U0hJ2ryOu1IOuYpc01O7RngPYa8Xvz795.jpg  relaxed"
      ]
     },
     "execution_count": 59,
     "metadata": {},
     "output_type": "execute_result"
    }
   ],
   "source": [
    "label_df.head()"
   ]
  },
  {
   "cell_type": "code",
   "execution_count": 60,
   "metadata": {},
   "outputs": [],
   "source": [
    "label_df.sort_values(by=['label', 'filename'], inplace=True)"
   ]
  },
  {
   "cell_type": "code",
   "execution_count": 61,
   "metadata": {},
   "outputs": [
    {
     "data": {
      "text/html": [
       "<div>\n",
       "<style scoped>\n",
       "    .dataframe tbody tr th:only-of-type {\n",
       "        vertical-align: middle;\n",
       "    }\n",
       "\n",
       "    .dataframe tbody tr th {\n",
       "        vertical-align: top;\n",
       "    }\n",
       "\n",
       "    .dataframe thead th {\n",
       "        text-align: right;\n",
       "    }\n",
       "</style>\n",
       "<table border=\"1\" class=\"dataframe\">\n",
       "  <thead>\n",
       "    <tr style=\"text-align: right;\">\n",
       "      <th></th>\n",
       "      <th>Unnamed: 0</th>\n",
       "      <th>filename</th>\n",
       "      <th>label</th>\n",
       "    </tr>\n",
       "  </thead>\n",
       "  <tbody>\n",
       "    <tr>\n",
       "      <th>553</th>\n",
       "      <td>553</td>\n",
       "      <td>0AvKtuzA7LfxnKaO0bey9mQMLnxXad73.jpg</td>\n",
       "      <td>angry</td>\n",
       "    </tr>\n",
       "    <tr>\n",
       "      <th>978</th>\n",
       "      <td>978</td>\n",
       "      <td>0C5yo7GxMy8lztxNZvSdfEx2gSPRTR701.jpg</td>\n",
       "      <td>angry</td>\n",
       "    </tr>\n",
       "    <tr>\n",
       "      <th>946</th>\n",
       "      <td>946</td>\n",
       "      <td>0C9jEgFQHsh36W5U2u5CA98lB7C5eX806.jpg</td>\n",
       "      <td>angry</td>\n",
       "    </tr>\n",
       "    <tr>\n",
       "      <th>82</th>\n",
       "      <td>82</td>\n",
       "      <td>0RXraPIKC00Dz1qkuMbj8XbuR80g5Z893.jpg</td>\n",
       "      <td>angry</td>\n",
       "    </tr>\n",
       "    <tr>\n",
       "      <th>1535</th>\n",
       "      <td>1535</td>\n",
       "      <td>0TSpHUDh1xIQthYrtH8E1UZQ72rcTZ68.jpg</td>\n",
       "      <td>angry</td>\n",
       "    </tr>\n",
       "  </tbody>\n",
       "</table>\n",
       "</div>"
      ],
      "text/plain": [
       "      Unnamed: 0                               filename  label\n",
       "553          553   0AvKtuzA7LfxnKaO0bey9mQMLnxXad73.jpg  angry\n",
       "978          978  0C5yo7GxMy8lztxNZvSdfEx2gSPRTR701.jpg  angry\n",
       "946          946  0C9jEgFQHsh36W5U2u5CA98lB7C5eX806.jpg  angry\n",
       "82            82  0RXraPIKC00Dz1qkuMbj8XbuR80g5Z893.jpg  angry\n",
       "1535        1535   0TSpHUDh1xIQthYrtH8E1UZQ72rcTZ68.jpg  angry"
      ]
     },
     "execution_count": 61,
     "metadata": {},
     "output_type": "execute_result"
    }
   ],
   "source": [
    "label_df.head()"
   ]
  },
  {
   "cell_type": "code",
   "execution_count": 62,
   "metadata": {},
   "outputs": [
    {
     "name": "stdout",
     "output_type": "stream",
     "text": [
      "File saved to: Dataset\\labels_sort.csv\n"
     ]
    }
   ],
   "source": [
    "file_path = os.path.join('Dataset', 'labels_sort.csv')\n",
    "with open(file_path, \"w\") as f:\n",
    "    f.write(label_df.to_csv(index=False))\n",
    "\n",
    "print(f\"File saved to: {file_path}\")"
   ]
  },
  {
   "cell_type": "markdown",
   "metadata": {},
   "source": [
    "### Rename all of images in Dataset"
   ]
  },
  {
   "cell_type": "code",
   "execution_count": 63,
   "metadata": {},
   "outputs": [],
   "source": [
    "emotions = ['angry', 'happy', 'relaxed', 'sad']\n",
    "\n",
    "for emo in emotions:\n",
    "    for index, file in enumerate(os.listdir(os.path.join('Dataset', emo))):\n",
    "        pass\n",
    "        # os.rename(os.path.join('Dataset', emo, file), os.path.join('Dataset', emo, emo + str(index) + '.jpg'))"
   ]
  },
  {
   "cell_type": "markdown",
   "metadata": {},
   "source": [
    "### Rename filename in labels_sort.csv"
   ]
  },
  {
   "cell_type": "code",
   "execution_count": 64,
   "metadata": {},
   "outputs": [
    {
     "data": {
      "text/html": [
       "<div>\n",
       "<style scoped>\n",
       "    .dataframe tbody tr th:only-of-type {\n",
       "        vertical-align: middle;\n",
       "    }\n",
       "\n",
       "    .dataframe tbody tr th {\n",
       "        vertical-align: top;\n",
       "    }\n",
       "\n",
       "    .dataframe thead th {\n",
       "        text-align: right;\n",
       "    }\n",
       "</style>\n",
       "<table border=\"1\" class=\"dataframe\">\n",
       "  <thead>\n",
       "    <tr style=\"text-align: right;\">\n",
       "      <th></th>\n",
       "      <th>filename</th>\n",
       "      <th>label</th>\n",
       "    </tr>\n",
       "  </thead>\n",
       "  <tbody>\n",
       "    <tr>\n",
       "      <th>0</th>\n",
       "      <td>0AvKtuzA7LfxnKaO0bey9mQMLnxXad73.jpg</td>\n",
       "      <td>angry</td>\n",
       "    </tr>\n",
       "    <tr>\n",
       "      <th>1</th>\n",
       "      <td>0C5yo7GxMy8lztxNZvSdfEx2gSPRTR701.jpg</td>\n",
       "      <td>angry</td>\n",
       "    </tr>\n",
       "    <tr>\n",
       "      <th>2</th>\n",
       "      <td>0C9jEgFQHsh36W5U2u5CA98lB7C5eX806.jpg</td>\n",
       "      <td>angry</td>\n",
       "    </tr>\n",
       "    <tr>\n",
       "      <th>3</th>\n",
       "      <td>0RXraPIKC00Dz1qkuMbj8XbuR80g5Z893.jpg</td>\n",
       "      <td>angry</td>\n",
       "    </tr>\n",
       "    <tr>\n",
       "      <th>4</th>\n",
       "      <td>0TSpHUDh1xIQthYrtH8E1UZQ72rcTZ68.jpg</td>\n",
       "      <td>angry</td>\n",
       "    </tr>\n",
       "    <tr>\n",
       "      <th>...</th>\n",
       "      <td>...</td>\n",
       "      <td>...</td>\n",
       "    </tr>\n",
       "    <tr>\n",
       "      <th>3995</th>\n",
       "      <td>zmAi6ZjC6ParXdqeN27YV8sAeRVWyj586.jpg</td>\n",
       "      <td>sad</td>\n",
       "    </tr>\n",
       "    <tr>\n",
       "      <th>3996</th>\n",
       "      <td>zq3lfQmQ0uVWzfl6yymBDVftU5Vqq5680.jpg</td>\n",
       "      <td>sad</td>\n",
       "    </tr>\n",
       "    <tr>\n",
       "      <th>3997</th>\n",
       "      <td>ztwzdxN8wasf9ISldQLOIIIzvnK5As948.jpg</td>\n",
       "      <td>sad</td>\n",
       "    </tr>\n",
       "    <tr>\n",
       "      <th>3998</th>\n",
       "      <td>zupPn3v2Zn8o0DQX53gUN5HDMcr0VY706.jpg</td>\n",
       "      <td>sad</td>\n",
       "    </tr>\n",
       "    <tr>\n",
       "      <th>3999</th>\n",
       "      <td>zvgEEnik5suJhs8fWtKVnem4dDWIGn745.jpg</td>\n",
       "      <td>sad</td>\n",
       "    </tr>\n",
       "  </tbody>\n",
       "</table>\n",
       "<p>4000 rows × 2 columns</p>\n",
       "</div>"
      ],
      "text/plain": [
       "                                   filename  label\n",
       "0      0AvKtuzA7LfxnKaO0bey9mQMLnxXad73.jpg  angry\n",
       "1     0C5yo7GxMy8lztxNZvSdfEx2gSPRTR701.jpg  angry\n",
       "2     0C9jEgFQHsh36W5U2u5CA98lB7C5eX806.jpg  angry\n",
       "3     0RXraPIKC00Dz1qkuMbj8XbuR80g5Z893.jpg  angry\n",
       "4      0TSpHUDh1xIQthYrtH8E1UZQ72rcTZ68.jpg  angry\n",
       "...                                     ...    ...\n",
       "3995  zmAi6ZjC6ParXdqeN27YV8sAeRVWyj586.jpg    sad\n",
       "3996  zq3lfQmQ0uVWzfl6yymBDVftU5Vqq5680.jpg    sad\n",
       "3997  ztwzdxN8wasf9ISldQLOIIIzvnK5As948.jpg    sad\n",
       "3998  zupPn3v2Zn8o0DQX53gUN5HDMcr0VY706.jpg    sad\n",
       "3999  zvgEEnik5suJhs8fWtKVnem4dDWIGn745.jpg    sad\n",
       "\n",
       "[4000 rows x 2 columns]"
      ]
     },
     "execution_count": 64,
     "metadata": {},
     "output_type": "execute_result"
    }
   ],
   "source": [
    "label_sort = pd.read_csv(r'Dataset\\labels_sort.csv')\n",
    "label_sort.drop('Unnamed: 0', axis=1, inplace=True)\n",
    "label_sort"
   ]
  },
  {
   "cell_type": "code",
   "execution_count": 65,
   "metadata": {},
   "outputs": [],
   "source": [
    "index = 0\n",
    "for _, row in label_sort.iterrows():\n",
    "    if index == 1000:\n",
    "        index = 0\n",
    "    row[0] = row[1] + str(index)\n",
    "    index += 1"
   ]
  },
  {
   "cell_type": "code",
   "execution_count": 70,
   "metadata": {},
   "outputs": [
    {
     "name": "stdout",
     "output_type": "stream",
     "text": [
      "      filename  label\n",
      "998   angry998  angry\n",
      "999   angry999  angry\n",
      "1000    happy0  happy\n",
      "1001    happy1  happy\n"
     ]
    }
   ],
   "source": [
    "print(label_sort[998:1002])"
   ]
  }
 ],
 "metadata": {
  "kernelspec": {
   "display_name": "base",
   "language": "python",
   "name": "python3"
  },
  "language_info": {
   "codemirror_mode": {
    "name": "ipython",
    "version": 3
   },
   "file_extension": ".py",
   "mimetype": "text/x-python",
   "name": "python",
   "nbconvert_exporter": "python",
   "pygments_lexer": "ipython3",
   "version": "3.11.5"
  }
 },
 "nbformat": 4,
 "nbformat_minor": 2
}
