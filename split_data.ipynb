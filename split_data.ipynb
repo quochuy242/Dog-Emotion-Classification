{
 "cells": [
  {
   "cell_type": "code",
   "execution_count": null,
   "metadata": {},
   "outputs": [],
   "source": [
    "import pandas as pd\n",
    "import numpy as np\n",
    "import tensorflow as tf\n",
    "\n",
    "from shutil import copyfile\n",
    "\n",
    "import warnings\n",
    "warnings.filterwarnings('ignore')\n",
    "\n",
    "import os\n",
    "import shutil\n",
    "import cv2\n",
    "import matplotlib.pyplot as plt\n",
    "import plotly.express as px\n",
    "import matplotlib.cm as cm\n",
    "import matplotlib.gridspec as gridspec"
   ]
  },
  {
   "cell_type": "code",
   "execution_count": null,
   "metadata": {},
   "outputs": [],
   "source": [
    "# Define paths\n",
    "train_path = 'Train'\n",
    "validation_path = 'Validation'\n",
    "\n",
    "train_angry_path = os.path.join(train_path, 'angry')\n",
    "train_happy_path = os.path.join(train_path, 'happy')\n",
    "train_relaxed_path = os.path.join(train_path, 'relaxed')\n",
    "train_sad_path = os.path.join(train_path, 'sad')\n",
    "\n",
    "valiation_angry_path = os.path.join(validation_path, 'angry')\n",
    "valiation_happy_path = os.path.join(validation_path, 'happy')\n",
    "valiation_relaxed_path = os.path.join(validation_path, 'relaxed')\n",
    "valiation_sad_path = os.path.join(validation_path, 'sad')\n",
    "\n",
    "try: \n",
    "    os.mkdir(train_path)\n",
    "    os.mkdir(validation_path)\n",
    "    os.mkdir(train_angry_path)\n",
    "    os.mkdir(train_happy_path)\n",
    "    os.mkdir(train_relaxed_path)\n",
    "    os.mkdir(train_sad_path)\n",
    "    os.mkdir(valiation_angry_path)\n",
    "    os.mkdir(valiation_happy_path)\n",
    "    os.mkdir(valiation_relaxed_path)\n",
    "    os.mkdir(valiation_sad_path)\n",
    "except OSError:\n",
    "    print(\"Creation of the directory failed\")"
   ]
  },
  {
   "cell_type": "code",
   "execution_count": null,
   "metadata": {},
   "outputs": [],
   "source": [
    "def split_data(main_dir, train_dir, validation_dir, train_split_ratio):\n",
    "    \"\"\"\n",
    "    Splits the data into train and validation\n",
    "\n",
    "    Args:\n",
    "        main_dir (string): path containing all of images\n",
    "        train_dir (string): path to be used for training\n",
    "        validation_dir (string): path to be used for validation\n",
    "        train_split_ratio (float): size of training dataset\n",
    "    \"\"\"\n",
    "    \n",
    "    files = []\n",
    "    for file in os.listdir(main_dir):\n",
    "        if os.path.getsize(os.path.join(main_dir, file)):\n",
    "            files.append(file)\n",
    "            \n",
    "    shuffled_files = np.random.permutation(files) # shuffles the files\n",
    "    split = int(train_split_ratio * len(shuffled_files))\n",
    "    \n",
    "    train = shuffled_files[:split]\n",
    "    validation = shuffled_files[split:]\n",
    "    \n",
    "    for elem in train:\n",
    "        copyfile(os.path.join(main_dir, elem), os.path.join(train_dir, elem))\n",
    "    for elem in validation:\n",
    "        copyfile(os.path.join(main_dir, elem), os.path.join(validation_dir, elem))"
   ]
  },
  {
   "cell_type": "code",
   "execution_count": null,
   "metadata": {},
   "outputs": [],
   "source": [
    "emotions = ['angry', 'happy', 'relaxed', 'sad']\n",
    "if os.path.getsize(os.path.join('Train', 'angry')) == 0:\n",
    "    for emotion in emotions:\n",
    "        split_data(os.path.join('Dataset', emotion), \n",
    "                os.path.join(train_path, emotion), \n",
    "                os.path.join(validation_path, emotion), 0.9)"
   ]
  }
 ],
 "metadata": {
  "language_info": {
   "name": "python"
  }
 },
 "nbformat": 4,
 "nbformat_minor": 2
}
