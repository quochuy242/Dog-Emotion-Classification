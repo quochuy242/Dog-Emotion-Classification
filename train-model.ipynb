{
 "cells": [
  {
   "cell_type": "code",
   "execution_count": 1,
   "id": "eff37472",
   "metadata": {
    "execution": {
     "iopub.execute_input": "2023-12-16T18:40:39.668249Z",
     "iopub.status.busy": "2023-12-16T18:40:39.667839Z",
     "iopub.status.idle": "2023-12-16T18:41:01.109133Z",
     "shell.execute_reply": "2023-12-16T18:41:01.108323Z"
    },
    "papermill": {
     "duration": 21.450681,
     "end_time": "2023-12-16T18:41:01.111602",
     "exception": false,
     "start_time": "2023-12-16T18:40:39.660921",
     "status": "completed"
    },
    "tags": []
   },
   "outputs": [
    {
     "name": "stderr",
     "output_type": "stream",
     "text": [
      "/opt/conda/lib/python3.10/site-packages/scipy/__init__.py:146: UserWarning: A NumPy version >=1.16.5 and <1.23.0 is required for this version of SciPy (detected version 1.24.3\n",
      "  warnings.warn(f\"A NumPy version >={np_minversion} and <{np_maxversion}\"\n"
     ]
    }
   ],
   "source": [
    "import pandas as pd\n",
    "import numpy as np\n",
    "import tensorflow as tf\n",
    "\n",
    "from keras.preprocessing.image import ImageDataGenerator\n",
    "from keras.layers import Conv2D, MaxPooling2D, Flatten, Dense, Dropout, BatchNormalization, Rescaling\n",
    "from keras.models import Model, Sequential\n",
    "from keras.optimizers import Adam, RMSprop\n",
    "from keras.callbacks import LearningRateScheduler\n",
    "from shutil import copyfile\n",
    "\n",
    "\n",
    "import os\n",
    "import shutil\n",
    "import cv2\n",
    "import matplotlib.pyplot as plt\n",
    "import plotly.express as px\n",
    "import matplotlib.cm as cm\n",
    "import matplotlib.gridspec as gridspec\n",
    "\n",
    "from sklearn.model_selection import train_test_split"
   ]
  },
  {
   "cell_type": "code",
   "execution_count": 2,
   "id": "7333aaee",
   "metadata": {
    "execution": {
     "iopub.execute_input": "2023-12-16T18:41:01.129479Z",
     "iopub.status.busy": "2023-12-16T18:41:01.128810Z",
     "iopub.status.idle": "2023-12-16T18:41:01.133438Z",
     "shell.execute_reply": "2023-12-16T18:41:01.132681Z"
    },
    "papermill": {
     "duration": 0.011515,
     "end_time": "2023-12-16T18:41:01.135387",
     "exception": false,
     "start_time": "2023-12-16T18:41:01.123872",
     "status": "completed"
    },
    "tags": []
   },
   "outputs": [],
   "source": [
    "emotions = ['angry', 'happy', 'relaxed', 'sad']\n",
    "dataset_path = '/kaggle/input/dog-emotion/Dog Emotion'"
   ]
  },
  {
   "cell_type": "code",
   "execution_count": 3,
   "id": "5ec579d2",
   "metadata": {
    "execution": {
     "iopub.execute_input": "2023-12-16T18:41:01.143090Z",
     "iopub.status.busy": "2023-12-16T18:41:01.142814Z",
     "iopub.status.idle": "2023-12-16T18:41:50.460748Z",
     "shell.execute_reply": "2023-12-16T18:41:50.459775Z"
    },
    "papermill": {
     "duration": 49.327214,
     "end_time": "2023-12-16T18:41:50.465945",
     "exception": false,
     "start_time": "2023-12-16T18:41:01.138731",
     "status": "completed"
    },
    "tags": []
   },
   "outputs": [
    {
     "name": "stdout",
     "output_type": "stream",
     "text": [
      "      Unnamed: 0                               filename  label\n",
      "2017        2017  09dUVMcjCDfOtbeYDQg5Fvu3GPHWJg811.jpg  angry\n",
      "553          553   0AvKtuzA7LfxnKaO0bey9mQMLnxXad73.jpg  angry\n",
      "978          978  0C5yo7GxMy8lztxNZvSdfEx2gSPRTR701.jpg  angry\n",
      "946          946  0C9jEgFQHsh36W5U2u5CA98lB7C5eX806.jpg  angry\n",
      "82            82  0RXraPIKC00Dz1qkuMbj8XbuR80g5Z893.jpg  angry\n",
      "\n",
      "labels shape: (4000, 4)\n",
      "images shape: (4000, 192, 192, 3)\n"
     ]
    }
   ],
   "source": [
    "class_names = sorted(os.listdir(dataset_path))\n",
    "class_names.remove('labels.csv')\n",
    "\n",
    "images = []\n",
    "labels = []\n",
    "\n",
    "labels_df = pd.read_csv(os.path.join(dataset_path, 'labels.csv'), index_col=None)\n",
    "labels_df = labels_df.sort_values(by=['label', 'filename'])\n",
    "print(labels_df.head())\n",
    "\n",
    "for _, filename, label in labels_df.iloc:\n",
    "    image = cv2.imread(os.path.join(dataset_path, label, filename))\n",
    "    image = cv2.resize(image, (192, 192))\n",
    "    image = np.array(image)[:, :, ::-1]\n",
    "    images.append(image)\n",
    "    \n",
    "    encode_label = np.zeros(4)\n",
    "    encode_label[class_names.index(label)] = 1\n",
    "    labels.append(encode_label)\n",
    "\n",
    "labels = np.asarray(labels)\n",
    "images = np.asarray(images)\n",
    "\n",
    "print(f'\\nlabels shape: {labels.shape}\\nimages shape: {images.shape}')\n"
   ]
  },
  {
   "cell_type": "code",
   "execution_count": 4,
   "id": "a0178718",
   "metadata": {
    "execution": {
     "iopub.execute_input": "2023-12-16T18:41:50.474414Z",
     "iopub.status.busy": "2023-12-16T18:41:50.474013Z",
     "iopub.status.idle": "2023-12-16T18:41:50.607548Z",
     "shell.execute_reply": "2023-12-16T18:41:50.606625Z"
    },
    "papermill": {
     "duration": 0.14058,
     "end_time": "2023-12-16T18:41:50.610162",
     "exception": false,
     "start_time": "2023-12-16T18:41:50.469582",
     "status": "completed"
    },
    "tags": []
   },
   "outputs": [],
   "source": [
    "X_train, X_val, y_train, y_val = train_test_split(images, labels, test_size=0.1, random_state=24)"
   ]
  },
  {
   "cell_type": "code",
   "execution_count": 5,
   "id": "f2caefa0",
   "metadata": {
    "execution": {
     "iopub.execute_input": "2023-12-16T18:41:50.619527Z",
     "iopub.status.busy": "2023-12-16T18:41:50.618896Z",
     "iopub.status.idle": "2023-12-16T18:41:50.627001Z",
     "shell.execute_reply": "2023-12-16T18:41:50.626068Z"
    },
    "papermill": {
     "duration": 0.015034,
     "end_time": "2023-12-16T18:41:50.629149",
     "exception": false,
     "start_time": "2023-12-16T18:41:50.614115",
     "status": "completed"
    },
    "tags": []
   },
   "outputs": [],
   "source": [
    "def show_images(generator, nRows = 1, nCols = 2, WidthSpace = 0.02, HeightSpace = 0.15):\n",
    "    \"\"\"\n",
    "    Plots random num_images images from generator\n",
    "\n",
    "    Args:\n",
    "        generator: a generator instance\n",
    "        nRows: number of rows\n",
    "        nCols: number of columns\n",
    "        WidthSpace: width space\n",
    "        HeightSpace: height space\n",
    "    \"\"\"\n",
    "    global emotions\n",
    "    gs = gridspec.GridSpec(nRows, nCols)     \n",
    "    gs.update(wspace=WidthSpace, hspace=HeightSpace)\n",
    "    \n",
    "    images, labels = generator.next()\n",
    "    labels = labels.astype('int32')\n",
    "    num_images = nRows * nCols\n",
    "    \n",
    "    \n",
    "    plt.figure(figsize=(20,10))\n",
    "    \n",
    "    for i, (image, label) in enumerate(zip(images, labels)):\n",
    "        plt.subplot(gs[i])\n",
    "        plt.imshow(image)\n",
    "#         index_label = label_to_index(str(label))\n",
    "        plt.title(emotions[label])\n",
    "        if i == num_images - 1:\n",
    "            break\n",
    "    plt.show()\n",
    "        "
   ]
  },
  {
   "cell_type": "code",
   "execution_count": 6,
   "id": "ec443baf",
   "metadata": {
    "execution": {
     "iopub.execute_input": "2023-12-16T18:41:50.638191Z",
     "iopub.status.busy": "2023-12-16T18:41:50.637715Z",
     "iopub.status.idle": "2023-12-16T18:41:50.641953Z",
     "shell.execute_reply": "2023-12-16T18:41:50.641078Z"
    },
    "papermill": {
     "duration": 0.010919,
     "end_time": "2023-12-16T18:41:50.643962",
     "exception": false,
     "start_time": "2023-12-16T18:41:50.633043",
     "status": "completed"
    },
    "tags": []
   },
   "outputs": [],
   "source": [
    "# show_images(train_generator, 2, 3)"
   ]
  },
  {
   "cell_type": "code",
   "execution_count": 7,
   "id": "8a496b2a",
   "metadata": {
    "execution": {
     "iopub.execute_input": "2023-12-16T18:41:50.652899Z",
     "iopub.status.busy": "2023-12-16T18:41:50.652596Z",
     "iopub.status.idle": "2023-12-16T18:41:56.127951Z",
     "shell.execute_reply": "2023-12-16T18:41:56.127014Z"
    },
    "papermill": {
     "duration": 5.495687,
     "end_time": "2023-12-16T18:41:56.143662",
     "exception": false,
     "start_time": "2023-12-16T18:41:50.647975",
     "status": "completed"
    },
    "tags": []
   },
   "outputs": [
    {
     "name": "stdout",
     "output_type": "stream",
     "text": [
      "Model: \"sequential\"\n",
      "_________________________________________________________________\n",
      " Layer (type)                Output Shape              Param #   \n",
      "=================================================================\n",
      " rescaling (Rescaling)       (None, 192, 192, 3)       0         \n",
      "                                                                 \n",
      " conv2d (Conv2D)             (None, 192, 192, 64)      1792      \n",
      "                                                                 \n",
      " conv2d_1 (Conv2D)           (None, 192, 192, 64)      36928     \n",
      "                                                                 \n",
      " max_pooling2d (MaxPooling2  (None, 96, 96, 64)        0         \n",
      " D)                                                              \n",
      "                                                                 \n",
      " conv2d_2 (Conv2D)           (None, 96, 96, 128)       73856     \n",
      "                                                                 \n",
      " conv2d_3 (Conv2D)           (None, 96, 96, 128)       147584    \n",
      "                                                                 \n",
      " max_pooling2d_1 (MaxPoolin  (None, 48, 48, 128)       0         \n",
      " g2D)                                                            \n",
      "                                                                 \n",
      " conv2d_4 (Conv2D)           (None, 48, 48, 256)       295168    \n",
      "                                                                 \n",
      " conv2d_5 (Conv2D)           (None, 48, 48, 256)       590080    \n",
      "                                                                 \n",
      " max_pooling2d_2 (MaxPoolin  (None, 24, 24, 256)       0         \n",
      " g2D)                                                            \n",
      "                                                                 \n",
      " conv2d_6 (Conv2D)           (None, 24, 24, 512)       1180160   \n",
      "                                                                 \n",
      " conv2d_7 (Conv2D)           (None, 24, 24, 512)       2359808   \n",
      "                                                                 \n",
      " max_pooling2d_3 (MaxPoolin  (None, 12, 12, 512)       0         \n",
      " g2D)                                                            \n",
      "                                                                 \n",
      " flatten (Flatten)           (None, 73728)             0         \n",
      "                                                                 \n",
      " dense (Dense)               (None, 256)               18874624  \n",
      "                                                                 \n",
      " dense_1 (Dense)             (None, 128)               32896     \n",
      "                                                                 \n",
      " dense_2 (Dense)             (None, 64)                8256      \n",
      "                                                                 \n",
      " dense_3 (Dense)             (None, 4)                 260       \n",
      "                                                                 \n",
      "=================================================================\n",
      "Total params: 23601412 (90.03 MB)\n",
      "Trainable params: 23601412 (90.03 MB)\n",
      "Non-trainable params: 0 (0.00 Byte)\n",
      "_________________________________________________________________\n"
     ]
    }
   ],
   "source": [
    "model = Sequential()\n",
    "\n",
    "# Inputs and rescaling\n",
    "model.add(Rescaling(scale=1./255, input_shape=(192, 192, 3)))\n",
    "\n",
    "# Convolutional block 1\n",
    "model.add(Conv2D(64, (3, 3), activation='relu', padding='same'))\n",
    "model.add(Conv2D(64, (3, 3), activation='relu', padding='same'))\n",
    "model.add(MaxPooling2D(pool_size=2))\n",
    "\n",
    "# Convolutional block 2\n",
    "model.add(Conv2D(128, (3, 3), activation='relu', padding='same'))\n",
    "model.add(Conv2D(128, (3, 3), activation='relu', padding='same'))\n",
    "model.add(MaxPooling2D(pool_size=2))\n",
    "\n",
    "# Convolutional layres 3\n",
    "model.add(Conv2D(256, (3, 3), activation='relu', padding='same'))\n",
    "model.add(Conv2D(256, (3, 3), activation='relu', padding='same'))\n",
    "model.add(MaxPooling2D(pool_size=2))\n",
    "\n",
    "# Convolutional block 4\n",
    "model.add(Conv2D(512, (3, 3), activation='relu', padding='same'))\n",
    "model.add(Conv2D(512, (3, 3), activation='relu', padding='same'))\n",
    "model.add(MaxPooling2D(pool_size=2))\n",
    "model.add(Flatten())\n",
    "\n",
    "# Dense block\n",
    "model.add(Dense(256, activation='relu'))\n",
    "model.add(Dense(128, activation='relu'))\n",
    "model.add(Dense(64, activation='relu'))\n",
    "model.add(Dense(4, activation='softmax'))\n",
    "\n",
    "model.compile(optimizer=Adam(learning_rate=0.0001),\n",
    "              loss='categorical_crossentropy',\n",
    "              metrics=['accuracy'])\n",
    "\n",
    "model.summary()"
   ]
  },
  {
   "cell_type": "code",
   "execution_count": 8,
   "id": "e4c4a63e",
   "metadata": {
    "execution": {
     "iopub.execute_input": "2023-12-16T18:41:56.159478Z",
     "iopub.status.busy": "2023-12-16T18:41:56.159152Z",
     "iopub.status.idle": "2023-12-16T18:41:56.163819Z",
     "shell.execute_reply": "2023-12-16T18:41:56.163010Z"
    },
    "papermill": {
     "duration": 0.014693,
     "end_time": "2023-12-16T18:41:56.165717",
     "exception": false,
     "start_time": "2023-12-16T18:41:56.151024",
     "status": "completed"
    },
    "tags": []
   },
   "outputs": [],
   "source": [
    "def scheduler(epoch, learning_rate):\n",
    "    if epoch < 20:\n",
    "        return learning_rate\n",
    "    else:\n",
    "        return learning_rate * tf.math.exp(-0.2)\n",
    "\n",
    "callback = LearningRateScheduler(scheduler)"
   ]
  },
  {
   "cell_type": "code",
   "execution_count": 9,
   "id": "987c7ced",
   "metadata": {
    "execution": {
     "iopub.execute_input": "2023-12-16T18:41:56.180933Z",
     "iopub.status.busy": "2023-12-16T18:41:56.180663Z",
     "iopub.status.idle": "2023-12-16T18:54:16.396873Z",
     "shell.execute_reply": "2023-12-16T18:54:16.395988Z"
    },
    "papermill": {
     "duration": 740.226278,
     "end_time": "2023-12-16T18:54:16.399000",
     "exception": false,
     "start_time": "2023-12-16T18:41:56.172722",
     "status": "completed"
    },
    "tags": []
   },
   "outputs": [
    {
     "name": "stdout",
     "output_type": "stream",
     "text": [
      "Epoch 1/25\n",
      "125/125 [==============================] - 53s 232ms/step - loss: 1.3854 - accuracy: 0.2430 - val_loss: 1.3639 - val_accuracy: 0.2425 - lr: 1.0000e-04\n",
      "Epoch 2/25\n",
      "125/125 [==============================] - 27s 217ms/step - loss: 1.3005 - accuracy: 0.3330 - val_loss: 1.2605 - val_accuracy: 0.3675 - lr: 1.0000e-04\n",
      "Epoch 3/25\n",
      "125/125 [==============================] - 28s 225ms/step - loss: 1.2556 - accuracy: 0.3675 - val_loss: 1.2259 - val_accuracy: 0.4025 - lr: 1.0000e-04\n",
      "Epoch 4/25\n",
      "125/125 [==============================] - 29s 228ms/step - loss: 1.2255 - accuracy: 0.3930 - val_loss: 1.1782 - val_accuracy: 0.4475 - lr: 1.0000e-04\n",
      "Epoch 5/25\n",
      "125/125 [==============================] - 28s 225ms/step - loss: 1.1772 - accuracy: 0.4300 - val_loss: 1.0877 - val_accuracy: 0.4900 - lr: 1.0000e-04\n",
      "Epoch 6/25\n",
      "125/125 [==============================] - 28s 228ms/step - loss: 1.0874 - accuracy: 0.4952 - val_loss: 0.9484 - val_accuracy: 0.6025 - lr: 1.0000e-04\n",
      "Epoch 7/25\n",
      "125/125 [==============================] - 29s 229ms/step - loss: 0.9482 - accuracy: 0.5745 - val_loss: 0.7014 - val_accuracy: 0.7400 - lr: 1.0000e-04\n",
      "Epoch 8/25\n",
      "125/125 [==============================] - 28s 228ms/step - loss: 0.7599 - accuracy: 0.6805 - val_loss: 0.5475 - val_accuracy: 0.8000 - lr: 1.0000e-04\n",
      "Epoch 9/25\n",
      "125/125 [==============================] - 29s 229ms/step - loss: 0.5107 - accuracy: 0.7997 - val_loss: 0.3180 - val_accuracy: 0.8975 - lr: 1.0000e-04\n",
      "Epoch 10/25\n",
      "125/125 [==============================] - 29s 229ms/step - loss: 0.3062 - accuracy: 0.8898 - val_loss: 0.1829 - val_accuracy: 0.9475 - lr: 1.0000e-04\n",
      "Epoch 11/25\n",
      "125/125 [==============================] - 29s 230ms/step - loss: 0.2102 - accuracy: 0.9310 - val_loss: 0.1157 - val_accuracy: 0.9675 - lr: 1.0000e-04\n",
      "Epoch 12/25\n",
      "125/125 [==============================] - 29s 230ms/step - loss: 0.1422 - accuracy: 0.9545 - val_loss: 0.0775 - val_accuracy: 0.9775 - lr: 1.0000e-04\n",
      "Epoch 13/25\n",
      "125/125 [==============================] - 29s 230ms/step - loss: 0.1198 - accuracy: 0.9630 - val_loss: 0.0405 - val_accuracy: 0.9875 - lr: 1.0000e-04\n",
      "Epoch 14/25\n",
      "125/125 [==============================] - 29s 230ms/step - loss: 0.0996 - accuracy: 0.9722 - val_loss: 0.0434 - val_accuracy: 0.9925 - lr: 1.0000e-04\n",
      "Epoch 15/25\n",
      "125/125 [==============================] - 29s 230ms/step - loss: 0.0777 - accuracy: 0.9803 - val_loss: 0.0385 - val_accuracy: 0.9900 - lr: 1.0000e-04\n",
      "Epoch 16/25\n",
      "125/125 [==============================] - 29s 230ms/step - loss: 0.0301 - accuracy: 0.9920 - val_loss: 0.0318 - val_accuracy: 0.9950 - lr: 1.0000e-04\n",
      "Epoch 17/25\n",
      "125/125 [==============================] - 29s 230ms/step - loss: 0.0119 - accuracy: 0.9960 - val_loss: 0.0139 - val_accuracy: 0.9950 - lr: 1.0000e-04\n",
      "Epoch 18/25\n",
      "125/125 [==============================] - 29s 230ms/step - loss: 0.0100 - accuracy: 0.9960 - val_loss: 0.0037 - val_accuracy: 1.0000 - lr: 1.0000e-04\n",
      "Epoch 19/25\n",
      "125/125 [==============================] - 29s 230ms/step - loss: 0.0022 - accuracy: 1.0000 - val_loss: 5.7606e-04 - val_accuracy: 1.0000 - lr: 1.0000e-04\n",
      "Epoch 20/25\n",
      "125/125 [==============================] - 29s 230ms/step - loss: 0.0379 - accuracy: 0.9900 - val_loss: 0.0172 - val_accuracy: 0.9925 - lr: 1.0000e-04\n",
      "Epoch 21/25\n",
      "125/125 [==============================] - 29s 230ms/step - loss: 0.0426 - accuracy: 0.9880 - val_loss: 0.0060 - val_accuracy: 0.9975 - lr: 8.1873e-05\n",
      "Epoch 22/25\n",
      "125/125 [==============================] - 29s 230ms/step - loss: 0.0087 - accuracy: 0.9983 - val_loss: 0.0024 - val_accuracy: 1.0000 - lr: 6.7032e-05\n",
      "Epoch 23/25\n",
      "125/125 [==============================] - 29s 230ms/step - loss: 0.0028 - accuracy: 0.9995 - val_loss: 9.0098e-04 - val_accuracy: 1.0000 - lr: 5.4881e-05\n",
      "Epoch 24/25\n",
      "125/125 [==============================] - 29s 230ms/step - loss: 6.4863e-04 - accuracy: 1.0000 - val_loss: 4.8028e-04 - val_accuracy: 1.0000 - lr: 4.4933e-05\n",
      "Epoch 25/25\n",
      "125/125 [==============================] - 29s 230ms/step - loss: 3.9822e-04 - accuracy: 1.0000 - val_loss: 3.7223e-04 - val_accuracy: 1.0000 - lr: 3.6788e-05\n"
     ]
    }
   ],
   "source": [
    "history = model.fit(images, labels,    \n",
    "                    validation_data = (X_val, y_val),\n",
    "                    epochs=25, callbacks=[callback], verbose=1)"
   ]
  }
 ],
 "metadata": {
  "kaggle": {
   "accelerator": "nvidiaTeslaT4",
   "dataSources": [
    {
     "datasetId": 2882322,
     "sourceId": 4969612,
     "sourceType": "datasetVersion"
    }
   ],
   "dockerImageVersionId": 30627,
   "isGpuEnabled": true,
   "isInternetEnabled": true,
   "language": "python",
   "sourceType": "notebook"
  },
  "kernelspec": {
   "display_name": "Python 3",
   "language": "python",
   "name": "python3"
  },
  "language_info": {
   "codemirror_mode": {
    "name": "ipython",
    "version": 3
   },
   "file_extension": ".py",
   "mimetype": "text/x-python",
   "name": "python",
   "nbconvert_exporter": "python",
   "pygments_lexer": "ipython3",
   "version": "3.10.12"
  },
  "papermill": {
   "default_parameters": {},
   "duration": 824.730191,
   "end_time": "2023-12-16T18:54:19.884575",
   "environment_variables": {},
   "exception": null,
   "input_path": "__notebook__.ipynb",
   "output_path": "__notebook__.ipynb",
   "parameters": {},
   "start_time": "2023-12-16T18:40:35.154384",
   "version": "2.4.0"
  }
 },
 "nbformat": 4,
 "nbformat_minor": 5
}
