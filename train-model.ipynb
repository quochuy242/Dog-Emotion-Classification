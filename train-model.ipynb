{
 "cells": [
  {
   "cell_type": "code",
   "execution_count": 1,
   "id": "4e2bda96",
   "metadata": {
    "execution": {
     "iopub.execute_input": "2023-12-16T17:48:57.089327Z",
     "iopub.status.busy": "2023-12-16T17:48:57.088992Z",
     "iopub.status.idle": "2023-12-16T17:49:12.465921Z",
     "shell.execute_reply": "2023-12-16T17:49:12.464806Z"
    },
    "papermill": {
     "duration": 15.384748,
     "end_time": "2023-12-16T17:49:12.468739",
     "exception": false,
     "start_time": "2023-12-16T17:48:57.083991",
     "status": "completed"
    },
    "tags": []
   },
   "outputs": [
    {
     "name": "stderr",
     "output_type": "stream",
     "text": [
      "/opt/conda/lib/python3.10/site-packages/scipy/__init__.py:146: UserWarning: A NumPy version >=1.16.5 and <1.23.0 is required for this version of SciPy (detected version 1.24.3\n",
      "  warnings.warn(f\"A NumPy version >={np_minversion} and <{np_maxversion}\"\n"
     ]
    }
   ],
   "source": [
    "import pandas as pd\n",
    "import numpy as np\n",
    "import tensorflow as tf\n",
    "\n",
    "from keras.preprocessing.image import ImageDataGenerator\n",
    "from keras.layers import Conv2D, MaxPooling2D, Flatten, Dense, Dropout, BatchNormalization, Rescaling\n",
    "from keras.models import Model, Sequential\n",
    "from keras.optimizers import Adam, RMSprop\n",
    "from keras.callbacks import LearningRateScheduler\n",
    "from shutil import copyfile\n",
    "\n",
    "\n",
    "import os\n",
    "import shutil\n",
    "import cv2\n",
    "import matplotlib.pyplot as plt\n",
    "import plotly.express as px\n",
    "import matplotlib.cm as cm\n",
    "import matplotlib.gridspec as gridspec\n",
    "\n",
    "from sklearn.model_selection import train_test_split"
   ]
  },
  {
   "cell_type": "code",
   "execution_count": 2,
   "id": "9a17d998",
   "metadata": {
    "execution": {
     "iopub.execute_input": "2023-12-16T17:49:12.478326Z",
     "iopub.status.busy": "2023-12-16T17:49:12.477722Z",
     "iopub.status.idle": "2023-12-16T17:49:12.482299Z",
     "shell.execute_reply": "2023-12-16T17:49:12.481420Z"
    },
    "papermill": {
     "duration": 0.01113,
     "end_time": "2023-12-16T17:49:12.484269",
     "exception": false,
     "start_time": "2023-12-16T17:49:12.473139",
     "status": "completed"
    },
    "tags": []
   },
   "outputs": [],
   "source": [
    "emotions = ['angry', 'happy', 'relaxed', 'sad']\n",
    "dataset_path = '/kaggle/input/dog-emotion/Dog Emotion'"
   ]
  },
  {
   "cell_type": "code",
   "execution_count": 3,
   "id": "22faac2b",
   "metadata": {
    "execution": {
     "iopub.execute_input": "2023-12-16T17:49:12.492316Z",
     "iopub.status.busy": "2023-12-16T17:49:12.492035Z",
     "iopub.status.idle": "2023-12-16T17:49:43.910366Z",
     "shell.execute_reply": "2023-12-16T17:49:43.909423Z"
    },
    "papermill": {
     "duration": 31.427367,
     "end_time": "2023-12-16T17:49:43.915134",
     "exception": false,
     "start_time": "2023-12-16T17:49:12.487767",
     "status": "completed"
    },
    "tags": []
   },
   "outputs": [
    {
     "name": "stdout",
     "output_type": "stream",
     "text": [
      "      Unnamed: 0                               filename  label\n",
      "2017        2017  09dUVMcjCDfOtbeYDQg5Fvu3GPHWJg811.jpg  angry\n",
      "553          553   0AvKtuzA7LfxnKaO0bey9mQMLnxXad73.jpg  angry\n",
      "978          978  0C5yo7GxMy8lztxNZvSdfEx2gSPRTR701.jpg  angry\n",
      "946          946  0C9jEgFQHsh36W5U2u5CA98lB7C5eX806.jpg  angry\n",
      "82            82  0RXraPIKC00Dz1qkuMbj8XbuR80g5Z893.jpg  angry\n",
      "\n",
      "labels shape: (4000, 4)\n",
      "images shape: (4000, 192, 192, 3)\n"
     ]
    }
   ],
   "source": [
    "class_names = sorted(os.listdir(dataset_path))\n",
    "class_names.remove('labels.csv')\n",
    "\n",
    "images = []\n",
    "labels = []\n",
    "\n",
    "labels_df = pd.read_csv(os.path.join(dataset_path, 'labels.csv'), index_col=None)\n",
    "labels_df = labels_df.sort_values(by=['label', 'filename'])\n",
    "print(labels_df.head())\n",
    "\n",
    "for _, filename, label in labels_df.iloc:\n",
    "    image = cv2.imread(os.path.join(dataset_path, label, filename))\n",
    "    image = cv2.resize(image, (192, 192))\n",
    "    image = np.array(image)[:, :, ::-1]\n",
    "    images.append(image)\n",
    "    \n",
    "    encode_label = np.zeros(4)\n",
    "    encode_label[class_names.index(label)] = 1\n",
    "    labels.append(encode_label)\n",
    "\n",
    "labels = np.asarray(labels)\n",
    "images = np.asarray(images)\n",
    "\n",
    "print(f'\\nlabels shape: {labels.shape}\\nimages shape: {images.shape}')\n"
   ]
  },
  {
   "cell_type": "code",
   "execution_count": 4,
   "id": "8fb57a30",
   "metadata": {
    "execution": {
     "iopub.execute_input": "2023-12-16T17:49:43.923452Z",
     "iopub.status.busy": "2023-12-16T17:49:43.922908Z",
     "iopub.status.idle": "2023-12-16T17:49:44.049254Z",
     "shell.execute_reply": "2023-12-16T17:49:44.048201Z"
    },
    "papermill": {
     "duration": 0.133096,
     "end_time": "2023-12-16T17:49:44.051718",
     "exception": false,
     "start_time": "2023-12-16T17:49:43.918622",
     "status": "completed"
    },
    "tags": []
   },
   "outputs": [],
   "source": [
    "X_train, X_val, y_train, y_val = train_test_split(images, labels, test_size=0.1, random_state=24)"
   ]
  },
  {
   "cell_type": "code",
   "execution_count": 5,
   "id": "1e083bae",
   "metadata": {
    "execution": {
     "iopub.execute_input": "2023-12-16T17:49:44.060113Z",
     "iopub.status.busy": "2023-12-16T17:49:44.059813Z",
     "iopub.status.idle": "2023-12-16T17:49:44.067355Z",
     "shell.execute_reply": "2023-12-16T17:49:44.066556Z"
    },
    "papermill": {
     "duration": 0.013982,
     "end_time": "2023-12-16T17:49:44.069424",
     "exception": false,
     "start_time": "2023-12-16T17:49:44.055442",
     "status": "completed"
    },
    "tags": []
   },
   "outputs": [],
   "source": [
    "def show_images(generator, nRows = 1, nCols = 2, WidthSpace = 0.02, HeightSpace = 0.15):\n",
    "    \"\"\"\n",
    "    Plots random num_images images from generator\n",
    "\n",
    "    Args:\n",
    "        generator: a generator instance\n",
    "        nRows: number of rows\n",
    "        nCols: number of columns\n",
    "        WidthSpace: width space\n",
    "        HeightSpace: height space\n",
    "    \"\"\"\n",
    "    global emotions\n",
    "    gs = gridspec.GridSpec(nRows, nCols)     \n",
    "    gs.update(wspace=WidthSpace, hspace=HeightSpace)\n",
    "    \n",
    "    images, labels = generator.next()\n",
    "    labels = labels.astype('int32')\n",
    "    num_images = nRows * nCols\n",
    "    \n",
    "    \n",
    "    plt.figure(figsize=(20,10))\n",
    "    \n",
    "    for i, (image, label) in enumerate(zip(images, labels)):\n",
    "        plt.subplot(gs[i])\n",
    "        plt.imshow(image)\n",
    "#         index_label = label_to_index(str(label))\n",
    "        plt.title(emotions[label])\n",
    "        if i == num_images - 1:\n",
    "            break\n",
    "    plt.show()\n",
    "        "
   ]
  },
  {
   "cell_type": "code",
   "execution_count": 6,
   "id": "de9e3798",
   "metadata": {
    "execution": {
     "iopub.execute_input": "2023-12-16T17:49:44.078588Z",
     "iopub.status.busy": "2023-12-16T17:49:44.078277Z",
     "iopub.status.idle": "2023-12-16T17:49:44.082052Z",
     "shell.execute_reply": "2023-12-16T17:49:44.081250Z"
    },
    "papermill": {
     "duration": 0.010599,
     "end_time": "2023-12-16T17:49:44.083987",
     "exception": false,
     "start_time": "2023-12-16T17:49:44.073388",
     "status": "completed"
    },
    "tags": []
   },
   "outputs": [],
   "source": [
    "# show_images(train_generator, 2, 3)"
   ]
  },
  {
   "cell_type": "code",
   "execution_count": 7,
   "id": "2d7b70c9",
   "metadata": {
    "execution": {
     "iopub.execute_input": "2023-12-16T17:49:44.092085Z",
     "iopub.status.busy": "2023-12-16T17:49:44.091801Z",
     "iopub.status.idle": "2023-12-16T17:49:48.284206Z",
     "shell.execute_reply": "2023-12-16T17:49:48.283273Z"
    },
    "papermill": {
     "duration": 4.20977,
     "end_time": "2023-12-16T17:49:48.297145",
     "exception": false,
     "start_time": "2023-12-16T17:49:44.087375",
     "status": "completed"
    },
    "tags": []
   },
   "outputs": [
    {
     "name": "stdout",
     "output_type": "stream",
     "text": [
      "Model: \"sequential\"\n",
      "_________________________________________________________________\n",
      " Layer (type)                Output Shape              Param #   \n",
      "=================================================================\n",
      " rescaling (Rescaling)       (None, 192, 192, 3)       0         \n",
      "                                                                 \n",
      " conv2d (Conv2D)             (None, 192, 192, 64)      1792      \n",
      "                                                                 \n",
      " conv2d_1 (Conv2D)           (None, 192, 192, 64)      36928     \n",
      "                                                                 \n",
      " max_pooling2d (MaxPooling2  (None, 96, 96, 64)        0         \n",
      " D)                                                              \n",
      "                                                                 \n",
      " conv2d_2 (Conv2D)           (None, 96, 96, 128)       73856     \n",
      "                                                                 \n",
      " conv2d_3 (Conv2D)           (None, 96, 96, 128)       147584    \n",
      "                                                                 \n",
      " max_pooling2d_1 (MaxPoolin  (None, 48, 48, 128)       0         \n",
      " g2D)                                                            \n",
      "                                                                 \n",
      " conv2d_4 (Conv2D)           (None, 48, 48, 256)       295168    \n",
      "                                                                 \n",
      " conv2d_5 (Conv2D)           (None, 48, 48, 256)       590080    \n",
      "                                                                 \n",
      " max_pooling2d_2 (MaxPoolin  (None, 24, 24, 256)       0         \n",
      " g2D)                                                            \n",
      "                                                                 \n",
      " conv2d_6 (Conv2D)           (None, 24, 24, 512)       1180160   \n",
      "                                                                 \n",
      " conv2d_7 (Conv2D)           (None, 24, 24, 512)       2359808   \n",
      "                                                                 \n",
      " max_pooling2d_3 (MaxPoolin  (None, 12, 12, 512)       0         \n",
      " g2D)                                                            \n",
      "                                                                 \n",
      " flatten (Flatten)           (None, 73728)             0         \n",
      "                                                                 \n",
      " dense (Dense)               (None, 256)               18874624  \n",
      "                                                                 \n",
      " dense_1 (Dense)             (None, 128)               32896     \n",
      "                                                                 \n",
      " dense_2 (Dense)             (None, 64)                8256      \n",
      "                                                                 \n",
      " dense_3 (Dense)             (None, 4)                 260       \n",
      "                                                                 \n",
      "=================================================================\n",
      "Total params: 23601412 (90.03 MB)\n",
      "Trainable params: 23601412 (90.03 MB)\n",
      "Non-trainable params: 0 (0.00 Byte)\n",
      "_________________________________________________________________\n"
     ]
    }
   ],
   "source": [
    "model = Sequential()\n",
    "\n",
    "# Inputs and rescaling\n",
    "model.add(Rescaling(scale=1./255, input_shape=(192, 192, 3)))\n",
    "\n",
    "# Convolutional block 1\n",
    "model.add(Conv2D(64, (3, 3), activation='relu', padding='same'))\n",
    "model.add(Conv2D(64, (3, 3), activation='relu', padding='same'))\n",
    "model.add(MaxPooling2D(pool_size=2))\n",
    "\n",
    "# Convolutional block 2\n",
    "model.add(Conv2D(128, (3, 3), activation='relu', padding='same'))\n",
    "model.add(Conv2D(128, (3, 3), activation='relu', padding='same'))\n",
    "model.add(MaxPooling2D(pool_size=2))\n",
    "\n",
    "# Convolutional layres 3\n",
    "model.add(Conv2D(256, (3, 3), activation='relu', padding='same'))\n",
    "model.add(Conv2D(256, (3, 3), activation='relu', padding='same'))\n",
    "model.add(MaxPooling2D(pool_size=2))\n",
    "\n",
    "# Convolutional block 4\n",
    "model.add(Conv2D(512, (3, 3), activation='relu', padding='same'))\n",
    "model.add(Conv2D(512, (3, 3), activation='relu', padding='same'))\n",
    "model.add(MaxPooling2D(pool_size=2))\n",
    "model.add(Flatten())\n",
    "\n",
    "# Dense block\n",
    "model.add(Dense(256, activation='relu'))\n",
    "model.add(Dense(128, activation='relu'))\n",
    "model.add(Dense(64, activation='relu'))\n",
    "model.add(Dense(4, activation='softmax'))\n",
    "\n",
    "model.compile(optimizer=Adam(learning_rate=0.001),\n",
    "              loss='categorical_crossentropy',\n",
    "              metrics=['accuracy'])\n",
    "\n",
    "model.summary()"
   ]
  },
  {
   "cell_type": "code",
   "execution_count": 8,
   "id": "faeadcb3",
   "metadata": {
    "execution": {
     "iopub.execute_input": "2023-12-16T17:49:48.313088Z",
     "iopub.status.busy": "2023-12-16T17:49:48.312787Z",
     "iopub.status.idle": "2023-12-16T17:49:48.317710Z",
     "shell.execute_reply": "2023-12-16T17:49:48.316642Z"
    },
    "papermill": {
     "duration": 0.015237,
     "end_time": "2023-12-16T17:49:48.319643",
     "exception": false,
     "start_time": "2023-12-16T17:49:48.304406",
     "status": "completed"
    },
    "tags": []
   },
   "outputs": [],
   "source": [
    "def scheduler(epoch, learning_rate):\n",
    "    if epoch < 20:\n",
    "        return learning_rate\n",
    "    else:\n",
    "        return learning_rate * tf.math.exp(-0.2)\n",
    "\n",
    "callback = LearningRateScheduler(scheduler)"
   ]
  },
  {
   "cell_type": "code",
   "execution_count": 9,
   "id": "c2b8e4fa",
   "metadata": {
    "execution": {
     "iopub.execute_input": "2023-12-16T17:49:48.335664Z",
     "iopub.status.busy": "2023-12-16T17:49:48.335356Z",
     "iopub.status.idle": "2023-12-16T18:01:13.055331Z",
     "shell.execute_reply": "2023-12-16T18:01:13.054415Z"
    },
    "papermill": {
     "duration": 684.730398,
     "end_time": "2023-12-16T18:01:13.057755",
     "exception": false,
     "start_time": "2023-12-16T17:49:48.327357",
     "status": "completed"
    },
    "tags": []
   },
   "outputs": [
    {
     "name": "stdout",
     "output_type": "stream",
     "text": [
      "Epoch 1/25\n",
      "125/125 [==============================] - 48s 219ms/step - loss: 1.3996 - accuracy: 0.2428 - val_loss: 1.3862 - val_accuracy: 0.2425 - lr: 0.0010\n",
      "Epoch 2/25\n",
      "125/125 [==============================] - 26s 204ms/step - loss: 1.3865 - accuracy: 0.2473 - val_loss: 1.3862 - val_accuracy: 0.2425 - lr: 0.0010\n",
      "Epoch 3/25\n",
      "125/125 [==============================] - 26s 206ms/step - loss: 1.3865 - accuracy: 0.2360 - val_loss: 1.3864 - val_accuracy: 0.2325 - lr: 0.0010\n",
      "Epoch 4/25\n",
      "125/125 [==============================] - 26s 209ms/step - loss: 1.3864 - accuracy: 0.2425 - val_loss: 1.3863 - val_accuracy: 0.2425 - lr: 0.0010\n",
      "Epoch 5/25\n",
      "125/125 [==============================] - 26s 211ms/step - loss: 1.3864 - accuracy: 0.2435 - val_loss: 1.3863 - val_accuracy: 0.2550 - lr: 0.0010\n",
      "Epoch 6/25\n",
      "125/125 [==============================] - 27s 215ms/step - loss: 1.3864 - accuracy: 0.2395 - val_loss: 1.3862 - val_accuracy: 0.2700 - lr: 0.0010\n",
      "Epoch 7/25\n",
      "125/125 [==============================] - 27s 215ms/step - loss: 1.3864 - accuracy: 0.2338 - val_loss: 1.3864 - val_accuracy: 0.2425 - lr: 0.0010\n",
      "Epoch 8/25\n",
      "125/125 [==============================] - 27s 213ms/step - loss: 1.3864 - accuracy: 0.2385 - val_loss: 1.3863 - val_accuracy: 0.2425 - lr: 0.0010\n",
      "Epoch 9/25\n",
      "125/125 [==============================] - 27s 215ms/step - loss: 1.3864 - accuracy: 0.2430 - val_loss: 1.3863 - val_accuracy: 0.2425 - lr: 0.0010\n",
      "Epoch 10/25\n",
      "125/125 [==============================] - 27s 215ms/step - loss: 1.3864 - accuracy: 0.2387 - val_loss: 1.3863 - val_accuracy: 0.2325 - lr: 0.0010\n",
      "Epoch 11/25\n",
      "125/125 [==============================] - 26s 212ms/step - loss: 1.3865 - accuracy: 0.2383 - val_loss: 1.3863 - val_accuracy: 0.2425 - lr: 0.0010\n",
      "Epoch 12/25\n",
      "125/125 [==============================] - 26s 210ms/step - loss: 1.3864 - accuracy: 0.2430 - val_loss: 1.3863 - val_accuracy: 0.2325 - lr: 0.0010\n",
      "Epoch 13/25\n",
      "125/125 [==============================] - 26s 210ms/step - loss: 1.3864 - accuracy: 0.2345 - val_loss: 1.3863 - val_accuracy: 0.2425 - lr: 0.0010\n",
      "Epoch 14/25\n",
      "125/125 [==============================] - 26s 210ms/step - loss: 1.3864 - accuracy: 0.2340 - val_loss: 1.3862 - val_accuracy: 0.2700 - lr: 0.0010\n",
      "Epoch 15/25\n",
      "125/125 [==============================] - 26s 210ms/step - loss: 1.3865 - accuracy: 0.2320 - val_loss: 1.3863 - val_accuracy: 0.2550 - lr: 0.0010\n",
      "Epoch 16/25\n",
      "125/125 [==============================] - 26s 210ms/step - loss: 1.3864 - accuracy: 0.2397 - val_loss: 1.3863 - val_accuracy: 0.2325 - lr: 0.0010\n",
      "Epoch 17/25\n",
      "125/125 [==============================] - 26s 210ms/step - loss: 1.3864 - accuracy: 0.2425 - val_loss: 1.3864 - val_accuracy: 0.2325 - lr: 0.0010\n",
      "Epoch 18/25\n",
      "125/125 [==============================] - 26s 210ms/step - loss: 1.3864 - accuracy: 0.2422 - val_loss: 1.3863 - val_accuracy: 0.2425 - lr: 0.0010\n",
      "Epoch 19/25\n",
      "125/125 [==============================] - 26s 210ms/step - loss: 1.3865 - accuracy: 0.2393 - val_loss: 1.3863 - val_accuracy: 0.2425 - lr: 0.0010\n",
      "Epoch 20/25\n",
      "125/125 [==============================] - 26s 210ms/step - loss: 1.3864 - accuracy: 0.2485 - val_loss: 1.3862 - val_accuracy: 0.2700 - lr: 0.0010\n",
      "Epoch 21/25\n",
      "125/125 [==============================] - 26s 210ms/step - loss: 1.3864 - accuracy: 0.2418 - val_loss: 1.3862 - val_accuracy: 0.2700 - lr: 8.1873e-04\n",
      "Epoch 22/25\n",
      "125/125 [==============================] - 26s 210ms/step - loss: 1.3864 - accuracy: 0.2500 - val_loss: 1.3862 - val_accuracy: 0.2700 - lr: 6.7032e-04\n",
      "Epoch 23/25\n",
      "125/125 [==============================] - 26s 210ms/step - loss: 1.3863 - accuracy: 0.2500 - val_loss: 1.3863 - val_accuracy: 0.2700 - lr: 5.4881e-04\n",
      "Epoch 24/25\n",
      "125/125 [==============================] - 26s 210ms/step - loss: 1.3863 - accuracy: 0.2387 - val_loss: 1.3863 - val_accuracy: 0.2425 - lr: 4.4933e-04\n",
      "Epoch 25/25\n",
      "125/125 [==============================] - 26s 210ms/step - loss: 1.3863 - accuracy: 0.2350 - val_loss: 1.3863 - val_accuracy: 0.2700 - lr: 3.6788e-04\n"
     ]
    }
   ],
   "source": [
    "history = model.fit(images, labels,    \n",
    "                    validation_data = (X_val, y_val),\n",
    "                    epochs=25, callbacks=[callback], verbose=1)"
   ]
  }
 ],
 "metadata": {
  "kaggle": {
   "accelerator": "nvidiaTeslaT4",
   "dataSources": [
    {
     "datasetId": 2882322,
     "sourceId": 4969612,
     "sourceType": "datasetVersion"
    }
   ],
   "dockerImageVersionId": 30627,
   "isGpuEnabled": true,
   "isInternetEnabled": true,
   "language": "python",
   "sourceType": "notebook"
  },
  "kernelspec": {
   "display_name": "Python 3",
   "language": "python",
   "name": "python3"
  },
  "language_info": {
   "codemirror_mode": {
    "name": "ipython",
    "version": 3
   },
   "file_extension": ".py",
   "mimetype": "text/x-python",
   "name": "python",
   "nbconvert_exporter": "python",
   "pygments_lexer": "ipython3",
   "version": "3.10.12"
  },
  "papermill": {
   "default_parameters": {},
   "duration": 742.928069,
   "end_time": "2023-12-16T18:01:16.457114",
   "environment_variables": {},
   "exception": null,
   "input_path": "__notebook__.ipynb",
   "output_path": "__notebook__.ipynb",
   "parameters": {},
   "start_time": "2023-12-16T17:48:53.529045",
   "version": "2.4.0"
  }
 },
 "nbformat": 4,
 "nbformat_minor": 5
}
